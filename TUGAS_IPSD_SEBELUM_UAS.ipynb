{
 "cells": [
  {
   "cell_type": "code",
   "execution_count": 3,
   "id": "595d61a6-1760-400a-9756-080b2a527fb0",
   "metadata": {},
   "outputs": [
    {
     "name": "stdout",
     "output_type": "stream",
     "text": [
      "Data telah disimpan ke file: chat_cleaned.csv\n"
     ]
    }
   ],
   "source": [
    "import re\n",
    "import pandas as pd\n",
    "\n",
    "# Baca file teks hasil eksport\n",
    "file_path = \"data_group.txt\"  # Ubah dengan nama file Anda\n",
    "with open(file_path, \"r\", encoding=\"utf-8\") as file:\n",
    "    lines = file.readlines()\n",
    "\n",
    "# Regex untuk memisahkan tanggal, waktu, pengirim, dan pesan\n",
    "pattern = r\"(\\d{1,2}/\\d{1,2}/\\d{2,4}) (\\d{1,2}\\.\\d{2}) - ([^:]+): (.+)\"\n",
    "\n",
    "# Parsing data\n",
    "data = []\n",
    "for line in lines:\n",
    "    match = re.match(pattern, line)\n",
    "    if match:\n",
    "        date, time, sender, message = match.groups()\n",
    "        data.append({\"Date\": date, \"Time\": time, \"Sender\": sender, \"Message\": message})\n",
    "\n",
    "# Buat DataFrame\n",
    "df = pd.DataFrame(data)\n",
    "\n",
    "# Simpan ke file CSV\n",
    "csv_file = \"chat_cleaned.csv\"\n",
    "df.to_csv(csv_file, index=False)\n",
    "print(f\"Data telah disimpan ke file: {csv_file}\")\n"
   ]
  },
  {
   "cell_type": "code",
   "execution_count": 5,
   "id": "d0caee10-7030-446b-9842-b789013819b3",
   "metadata": {},
   "outputs": [
    {
     "name": "stdout",
     "output_type": "stream",
     "text": [
      "Hasil clustering telah disimpan ke chat_clustered.csv\n"
     ]
    },
    {
     "data": {
      "image/png": "[encoded data removed]",
      "text/plain": [
       "<Figure size 640x480 with 1 Axes>"
      ]
     },
     "metadata": {},
     "output_type": "display_data"
    }
   ],
   "source": [
    "from sklearn.feature_extraction.text import TfidfVectorizer\n",
    "from sklearn.cluster import KMeans\n",
    "import matplotlib.pyplot as plt\n",
    "\n",
    "# Load data dari CSV\n",
    "df = pd.read_csv(\"chat_cleaned.csv\")\n",
    "\n",
    "# Menggunakan kolom 'Message' untuk clustering\n",
    "messages = df['Message'].fillna(\"\")\n",
    "\n",
    "# Konversi pesan menjadi vektor TF-IDF\n",
    "vectorizer = TfidfVectorizer(stop_words=\"english\", max_features=1000)\n",
    "X = vectorizer.fit_transform(messages)\n",
    "\n",
    "# Buat model K-Means dengan 3 kluster\n",
    "kmeans = KMeans(n_clusters=3, random_state=42)\n",
    "df['Cluster'] = kmeans.fit_predict(X)\n",
    "\n",
    "# Simpan hasil clustering ke file baru\n",
    "df.to_csv(\"chat_clustered.csv\", index=False)\n",
    "print(\"Hasil clustering telah disimpan ke chat_clustered.csv\")\n",
    "\n",
    "# Visualisasi jumlah pesan per kluster\n",
    "df['Cluster'].value_counts().plot(kind=\"bar\", color=['red', 'blue', 'green'])\n",
    "plt.title(\"Jumlah Pesan per Kluster\")\n",
    "plt.xlabel(\"Kluster\")\n",
    "plt.ylabel(\"Jumlah Pesan\")\n",
    "plt.show()\n"
   ]
  },
  {
   "cell_type": "code",
   "execution_count": 9,
   "id": "dbc118c7-d599-4f7c-a874-dd76a28ab6f1",
   "metadata": {},
   "outputs": [
    {
     "name": "stdout",
     "output_type": "stream",
     "text": [
      "Kluster 0: [('tidak', 394), ('<Media', 392), ('disertakan>', 392)]\n",
      "Kluster 1: [('bang', 236), ('bang?', 26), ('ga', 23)]\n",
      "Kluster 2: [('di', 359), ('yang', 266), ('ada', 255)]\n"
     ]
    }
   ],
   "source": [
    "from collections import Counter\n",
    "\n",
    "# Mendapatkan 3 kata teratas untuk setiap kluster\n",
    "for cluster_id in range(3):  # Ganti dengan jumlah kluster\n",
    "    # Mengambil pesan-pesan dari kluster tertentu\n",
    "    cluster_messages = df[df['Cluster'] == cluster_id]['Message']\n",
    "    \n",
    "    # Mengonversi pesan menjadi string dan mengganti NaN dengan string kosong\n",
    "    cluster_messages = cluster_messages.fillna(\"\").astype(str)\n",
    "    \n",
    "    # Menggabungkan semua pesan dalam kluster menjadi satu string dan memisahkannya menjadi kata-kata\n",
    "    all_words = \" \".join(cluster_messages).split()\n",
    "    \n",
    "    # Mendapatkan 3 kata teratas menggunakan Counter\n",
    "    most_common_words = Counter(all_words).most_common(3)\n",
    "    \n",
    "    # Menampilkan hasil\n",
    "    print(f\"Kluster {cluster_id}: {most_common_words}\")\n"
   ]
  },
  {
   "cell_type": "code",
   "execution_count": 11,
   "id": "38d86b24-664e-44a2-a140-3b2712311a6c",
   "metadata": {},
   "outputs": [],
   "source": [
    "analysis_data = {\n",
    "    \"Kluster\": [0, 1, 2],\n",
    "    \"Analisis\": [\n",
    "        \"Berisi pesan yang banyak mengandung kata-kata terkait media yang tidak disertakan.\",\n",
    "        \"Fokus pada diskusi informal dengan sapaan seperti 'bang' dan pertanyaan 'bang?'.\",\n",
    "        \"Banyak pesan umum yang mengandung kata 'di', 'yang', dan 'ada'.\"\n",
    "    ]\n",
    "}\n",
    "\n",
    "analysis_df = pd.DataFrame(analysis_data)\n",
    "analysis_df.to_csv(\"hasil_analisis.csv\", index=False)\n"
   ]
  },
  {
   "cell_type": "code",
   "execution_count": null,
   "id": "aee63332-4cb6-417e-bdb0-950901675f75",
   "metadata": {},
   "outputs": [],
   "source": []
  }
 ],
 "metadata": {
  "kernelspec": {
   "display_name": "Python 3 (ipykernel)",
   "language": "python",
   "name": "python3"
  },
  "language_info": {
   "codemirror_mode": {
    "name": "ipython",
    "version": 3
   },
   "file_extension": ".py",
   "mimetype": "text/x-python",
   "name": "python",
   "nbconvert_exporter": "python",
   "pygments_lexer": "ipython3",
   "version": "3.12.4"
  }
 },
 "nbformat": 4,
 "nbformat_minor": 5
}
